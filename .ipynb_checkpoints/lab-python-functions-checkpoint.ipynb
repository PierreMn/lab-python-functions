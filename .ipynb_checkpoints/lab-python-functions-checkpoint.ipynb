{
 "cells": [
  {
   "cell_type": "markdown",
   "id": "25d7736c-ba17-4aff-b6bb-66eba20fbf4e",
   "metadata": {},
   "source": [
    "# Lab | Functions"
   ]
  },
  {
   "cell_type": "markdown",
   "id": "0c581062-8967-4d93-b06e-62833222f930",
   "metadata": {
    "tags": []
   },
   "source": [
    "## Exercise: Managing Customer Orders with Functions\n",
    "\n",
    "In the previous exercise, you improved the code for managing customer orders by using loops and flow control. Now, let's take it a step further and refactor the code by introducing functions.\n",
    "\n",
    "Follow the steps below to complete the exercise:\n",
    "\n",
    "1. Define a function named `initialize_inventory` that takes `products` as a parameter. Inside the function, implement the code for initializing the inventory dictionary using a loop and user input.\n",
    "\n",
    "2. Define a function named `get_customer_orders` that takes no parameters. Inside the function, implement the code for prompting the user to enter the product names using a loop. The function should return the `customer_orders` set.\n",
    "\n",
    "3. Define a function named `update_inventory` that takes `customer_orders` and `inventory` as parameters. Inside the function, implement the code for updating the inventory dictionary based on the customer orders.\n",
    "\n",
    "4. Define a function named `calculate_order_statistics` that takes `customer_orders` and `products` as parameters. Inside the function, implement the code for calculating the order statistics (total products ordered, and percentage of unique products ordered). The function should return these values.\n",
    "\n",
    "5. Define a function named `print_order_statistics` that takes `order_statistics` as a parameter. Inside the function, implement the code for printing the order statistics.\n",
    "\n",
    "6. Define a function named `print_updated_inventory` that takes `inventory` as a parameter. Inside the function, implement the code for printing the updated inventory.\n",
    "\n",
    "7. Call the functions in the appropriate sequence to execute the program and manage customer orders.\n",
    "\n",
    "Hints for functions:\n",
    "\n",
    "- Consider the input parameters required for each function and their return values.\n",
    "- Utilize function parameters and return values to transfer data between functions.\n",
    "- Test your functions individually to ensure they work correctly.\n",
    "\n",
    "\n"
   ]
  },
  {
   "cell_type": "code",
   "execution_count": 1,
   "id": "53822118",
   "metadata": {},
   "outputs": [],
   "source": [
    "#1. Function Initialize Inventory\n",
    "\n",
    "def initialize_inventory(products):\n",
    "    carry_on = True\n",
    "    while carry_on:\n",
    "        product = input('What product do we have to add at the inventory? if no more product to add, write \"stop\". ')\n",
    "        if product == \"stop\":\n",
    "            carry_on = False\n",
    "        else:\n",
    "            quantity = input(f\"What quantity of {product} do we have? \")\n",
    "            while quantity.isdigit() == False:\n",
    "                quantity = input(\"Please enter a number for the quantity: \")\n",
    "            products[product] = int(quantity)           \n",
    "    return products   "
   ]
  },
  {
   "cell_type": "code",
   "execution_count": 2,
   "id": "956ac1bf",
   "metadata": {},
   "outputs": [
    {
     "name": "stdout",
     "output_type": "stream",
     "text": [
      "What product do we have to add at the inventory? if no more product to add, write \"stop\". tea\n",
      "What quantity of tea do we have? 87\n",
      "What product do we have to add at the inventory? if no more product to add, write \"stop\". coffee\n",
      "What quantity of coffee do we have? 87\n",
      "What product do we have to add at the inventory? if no more product to add, write \"stop\". sugar\n",
      "What quantity of sugar do we have? 67\n",
      "What product do we have to add at the inventory? if no more product to add, write \"stop\". stop\n"
     ]
    },
    {
     "data": {
      "text/plain": [
       "{'tea': 87, 'coffee': 87, 'sugar': 67}"
      ]
     },
     "execution_count": 2,
     "metadata": {},
     "output_type": "execute_result"
    }
   ],
   "source": [
    "# Test of the function Initialize Inventory:\n",
    "\n",
    "my_inventory = {}\n",
    "initialize_inventory(my_inventory)"
   ]
  },
  {
   "cell_type": "code",
   "execution_count": 4,
   "id": "de48c6c1",
   "metadata": {},
   "outputs": [],
   "source": [
    "#2. Function Get Customer Orders\n",
    "\n",
    "def get_customer_orders(products):\n",
    "    products_available = list(products.keys())\n",
    "    customer_orders = {product: 0 for product in products_available}\n",
    "    live_order = True\n",
    "    while live_order:\n",
    "        product = input(\"What product do you want to order among \" + \", \".join(map(str, products_available)) + \"? \")\n",
    "        while product not in products_available:\n",
    "            product = input(\"This product is not in the proposed list. What product do you want to order among \" + \", \".join(map(str, products_available)) + \"? \")\n",
    "\n",
    "        if product in customer_orders:\n",
    "            customer_orders[product] += 1\n",
    "\n",
    "        if input(\"Do you want to add another product? (yes or no) \") == \"no\":\n",
    "            live_order = False\n",
    "\n",
    "    return customer_orders"
   ]
  },
  {
   "cell_type": "code",
   "execution_count": 6,
   "id": "f6fa2b9f",
   "metadata": {},
   "outputs": [
    {
     "name": "stdout",
     "output_type": "stream",
     "text": [
      "What product do you want to order among tea, coffee, sugar? sugar\n",
      "Do you want to add another product? (yes or no) sugar\n",
      "What product do you want to order among tea, coffee, sugar? tea\n",
      "Do you want to add another product? (yes or no) yes\n",
      "What product do you want to order among tea, coffee, sugar? tea\n",
      "Do you want to add another product? (yes or no) no\n",
      "{'tea': 2, 'coffee': 0, 'sugar': 1}\n",
      "{'tea': 87, 'coffee': 87, 'sugar': 67}\n"
     ]
    }
   ],
   "source": [
    "# Test of the Function Get Customer Orders\n",
    "\n",
    "my_customer_orders = get_customer_orders(my_inventory)\n",
    "print(my_customer_orders)\n",
    "print(my_inventory)\n"
   ]
  },
  {
   "cell_type": "code",
   "execution_count": 9,
   "id": "51121785",
   "metadata": {},
   "outputs": [],
   "source": [
    "#3. Function Update Inventory:\n",
    "\n",
    "def update_inventory(customer_orders, inventory):\n",
    "    for product in inventory:\n",
    "        inventory[product] = int(inventory.get(product)) - int(customer_orders.get(product))\n",
    "    return inventory"
   ]
  },
  {
   "cell_type": "code",
   "execution_count": 10,
   "id": "cab072c3",
   "metadata": {},
   "outputs": [
    {
     "name": "stdout",
     "output_type": "stream",
     "text": [
      "{'tea': 85, 'coffee': 87, 'sugar': 66}\n"
     ]
    }
   ],
   "source": [
    "# test function Update Inventory:\n",
    "\n",
    "my_inventory = update_inventory(my_customer_orders, my_inventory)\n",
    "print(my_inventory)"
   ]
  },
  {
   "cell_type": "code",
   "execution_count": 15,
   "id": "d793f46d",
   "metadata": {},
   "outputs": [],
   "source": [
    "#4 Function Calculate Order Statistics\n",
    "\n",
    "def calculate_order_statistics(customer_orders, products):\n",
    "    total_products_ordered = int(sum(customer_orders.values()))\n",
    "    total_products_available=int(sum(products.values()))\n",
    "    percentage_ordered = round(total_products_ordered / total_products_available * 100,2)\n",
    "    order_status = (total_products_ordered , percentage_ordered)\n",
    "    return order_status\n"
   ]
  },
  {
   "cell_type": "code",
   "execution_count": 16,
   "id": "6b9374c8",
   "metadata": {},
   "outputs": [
    {
     "name": "stdout",
     "output_type": "stream",
     "text": [
      "(3, 1.26)\n"
     ]
    }
   ],
   "source": [
    "#test calculate order statistics\n",
    "\n",
    "my_order_status = calculate_order_statistics(my_customer_orders, my_inventory)\n",
    "print(my_order_status)\n"
   ]
  },
  {
   "cell_type": "code",
   "execution_count": 19,
   "id": "5eae3df8",
   "metadata": {},
   "outputs": [],
   "source": [
    "#5. Function print_order_statistics\n",
    "\n",
    "def print_order_statistics(order_statistics):\n",
    "    print(\"Order Statistics:\")\n",
    "    print(\"Total Products Ordered: \", order_statistics[0])\n",
    "    print(\"Percentage of Products ordered: \",order_statistics[1],\"%\")"
   ]
  },
  {
   "cell_type": "code",
   "execution_count": 20,
   "id": "781bdeae",
   "metadata": {},
   "outputs": [
    {
     "name": "stdout",
     "output_type": "stream",
     "text": [
      "Order Statistics:\n",
      "Total Products Ordered:  3\n",
      "Percentage of Products ordered:  1.26 %\n"
     ]
    }
   ],
   "source": [
    "#test function print_order_statistics\n",
    "\n",
    "print_order_statistics(my_order_status)"
   ]
  },
  {
   "cell_type": "code",
   "execution_count": 23,
   "id": "cf4b11c3",
   "metadata": {},
   "outputs": [],
   "source": [
    "#6. Function print_updated_inventory\n",
    "\n",
    "def print_updated_inventory(inventory):\n",
    "    print(\"the updated inventory is: \")\n",
    "    for key, value in inventory.items():\n",
    "        print(key, \":\", value)"
   ]
  },
  {
   "cell_type": "code",
   "execution_count": 24,
   "id": "29707727",
   "metadata": {},
   "outputs": [
    {
     "name": "stdout",
     "output_type": "stream",
     "text": [
      "the updated inventory is: \n",
      "tea : 85\n",
      "coffee : 87\n",
      "sugar : 66\n"
     ]
    }
   ],
   "source": [
    "# test Function print_updated_inventory\n",
    "\n",
    "print_updated_inventory(my_inventory)"
   ]
  },
  {
   "cell_type": "code",
   "execution_count": 25,
   "id": "040e4d70",
   "metadata": {},
   "outputs": [
    {
     "name": "stdout",
     "output_type": "stream",
     "text": [
      "What product do we have to add at the inventory? if no more product to add, write \"stop\". Piano\n",
      "What quantity of Piano do we have? 6\n",
      "What product do we have to add at the inventory? if no more product to add, write \"stop\". Guitar\n",
      "What quantity of Guitar do we have? 7\n",
      "What product do we have to add at the inventory? if no more product to add, write \"stop\". drum\n",
      "What quantity of drum do we have? 3\n",
      "What product do we have to add at the inventory? if no more product to add, write \"stop\". stop\n",
      "What product do you want to order among Piano, Guitar, drum? Piano\n",
      "Do you want to add another product? (yes or no) yes\n",
      "What product do you want to order among Piano, Guitar, drum? rum\n",
      "This product is not in the proposed list. What product do you want to order among Piano, Guitar, drum? drum\n",
      "Do you want to add another product? (yes or no) no\n",
      "Order Statistics:\n",
      "Total Products Ordered:  2\n",
      "Percentage of Products ordered:  12.5 %\n",
      "the updated inventory is: \n",
      "Piano : 5\n",
      "Guitar : 7\n",
      "drum : 2\n"
     ]
    }
   ],
   "source": [
    "#7 Function Calling Sequence\n",
    "\n",
    "test_inventory = {}\n",
    "initialize_inventory(test_inventory)\n",
    "test_customer_orders = get_customer_orders(test_inventory)\n",
    "test_order_stats = calculate_order_statistics(test_customer_orders, test_inventory)\n",
    "test_inventory = update_inventory(test_customer_orders, test_inventory)\n",
    "print_order_statistics(test_order_stats)\n",
    "print_updated_inventory(test_inventory)\n"
   ]
  },
  {
   "cell_type": "code",
   "execution_count": null,
   "id": "6d1f1e59",
   "metadata": {},
   "outputs": [],
   "source": []
  }
 ],
 "metadata": {
  "kernelspec": {
   "display_name": "Python 3 (ipykernel)",
   "language": "python",
   "name": "python3"
  },
  "language_info": {
   "codemirror_mode": {
    "name": "ipython",
    "version": 3
   },
   "file_extension": ".py",
   "mimetype": "text/x-python",
   "name": "python",
   "nbconvert_exporter": "python",
   "pygments_lexer": "ipython3",
   "version": "3.11.5"
  }
 },
 "nbformat": 4,
 "nbformat_minor": 5
}
